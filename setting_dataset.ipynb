{
 "cells": [
  {
   "cell_type": "markdown",
   "id": "5dee9d77",
   "metadata": {},
   "source": [
    "# 환경 설정\n",
    "- 필요한 라이브러리 임포트"
   ]
  },
  {
   "cell_type": "code",
   "execution_count": null,
   "id": "2078adfb",
   "metadata": {},
   "outputs": [],
   "source": [
    "import json\n",
    "import os\n",
    "import yaml"
   ]
  },
  {
   "cell_type": "code",
   "execution_count": null,
   "id": "c36b0231",
   "metadata": {},
   "outputs": [],
   "source": [
    "dataset_path = \"객체/\"\n",
    "save_path = \"park_objects/\"\n",
    "images_save_path = save_path + 'images/'\n",
    "labels_save_path = save_path + 'labels/'\n",
    "jsons_save_path = save_path + 'jsons/'"
   ]
  },
  {
   "cell_type": "code",
   "execution_count": null,
   "id": "feb3fcf8",
   "metadata": {},
   "outputs": [],
   "source": [
    "directoryNames = os.listdir(dataset_path)"
   ]
  },
  {
   "cell_type": "code",
   "execution_count": null,
   "id": "0d2db149",
   "metadata": {},
   "outputs": [],
   "source": [
    "directoryNames"
   ]
  },
  {
   "cell_type": "markdown",
   "id": "aeb16b0c",
   "metadata": {},
   "source": [
    "# 데이터셋 병합\n",
    "- 분산되어있는 파일들을 하나의 디렉토리로 이동"
   ]
  },
  {
   "cell_type": "code",
   "execution_count": null,
   "id": "29d2f8f6",
   "metadata": {},
   "outputs": [],
   "source": [
    "!cp 객체/19_벤치/*.json park_objects/jsons/\n",
    "!cp 객체/25_가로등/*.json park_objects/jsons/\n",
    "!cp 객체/23_화장실/*.json park_objects/jsons/\n",
    "!cp 객체/9_쓰레기봉투/*.json park_objects/jsons/\n",
    "!cp 객체/17_반려동물/*.json park_objects/jsons/\n",
    "!cp 객체/20_공원화분/*.json park_objects/jsons/\n",
    "!cp 객체/26_공원안내표지판/*.json park_objects/jsons/\n",
    "!cp 객체/18_위해방지시설/*.json park_objects/jsons/\n",
    "!cp 객체/14_텐트/*.json park_objects/jsons/\n",
    "!cp 객체/22_휴게공간/*.json park_objects/jsons/\n",
    "!cp 객체/21_쓰레기통/*.json park_objects/jsons/\n",
    "!cp 객체/13_현수막/*.json park_objects/jsons/\n",
    "!cp 객체/24_비석/*.json park_objects/jsons/"
   ]
  },
  {
   "cell_type": "code",
   "execution_count": null,
   "id": "e353e3a3",
   "metadata": {},
   "outputs": [],
   "source": [
    "!ls park_objects/jsons | wc -l"
   ]
  },
  {
   "cell_type": "code",
   "execution_count": null,
   "id": "1bb536bc",
   "metadata": {},
   "outputs": [],
   "source": [
    "!cp 객체/19_벤치/*.jpg park_objects/images/\n",
    "!cp 객체/25_가로등/*.jpg park_objects/images/\n",
    "!cp 객체/23_화장실/*.jpg park_objects/images/\n",
    "!cp 객체/9_쓰레기봉투/*.jpg park_objects/images/\n",
    "!cp 객체/17_반려동물/*.jpg park_objects/images/\n",
    "!cp 객체/20_공원화분/*.jpg park_objects/images/\n",
    "!cp 객체/26_공원안내표지판/*.jpg park_objects/images/\n",
    "!cp 객체/18_위해방지시설/*.jpg park_objects/images/\n",
    "!cp 객체/14_텐트/*.jpg park_objects/images/\n",
    "!cp 객체/22_휴게공간/*.jpg park_objects/images/\n",
    "!cp 객체/21_쓰레기통/*.jpg park_objects/images/\n",
    "!cp 객체/13_현수막/*.jpg park_objects/images/\n",
    "!cp 객체/24_비석/*.jpg park_objects/images/"
   ]
  },
  {
   "cell_type": "code",
   "execution_count": null,
   "id": "dfc1422b",
   "metadata": {},
   "outputs": [],
   "source": [
    "!ls park_objects/images | wc -l"
   ]
  },
  {
   "cell_type": "code",
   "execution_count": null,
   "id": "ea676fef",
   "metadata": {},
   "outputs": [],
   "source": [
    "park_jsons = os.listdir('park_objects/jsons/')"
   ]
  },
  {
   "cell_type": "code",
   "execution_count": null,
   "id": "fb396ce3",
   "metadata": {},
   "outputs": [],
   "source": [
    "object_set = set()\n",
    "\n",
    "for park_json_path in park_jsons:\n",
    "    with open(jsons_save_path + park_json_path) as f:\n",
    "        park_json = json.load(f)\n",
    "    for label in park_json['category']:\n",
    "        object_set.add(label['object_class_name'])\n",
    "\n",
    "object_list = list(object_set)\n",
    "object_list.sort()\n",
    "print(object_list)\n",
    "len(object_list)"
   ]
  },
  {
   "cell_type": "code",
   "execution_count": null,
   "id": "faf0cb94",
   "metadata": {},
   "outputs": [],
   "source": [
    "# remove useless class\n",
    "# 'flame', 'food_truck', 'sit_board', \n",
    "object_list = ['banner', 'bench', 'fence', 'garbage_bag', \n",
    "               'park_headstone', 'park_info', 'park_pot', 'pet', \n",
    "               'rest_area', 'street_lamp', 'tent', 'toilet', 'trash_can']"
   ]
  },
  {
   "cell_type": "code",
   "execution_count": null,
   "id": "dcce273e",
   "metadata": {},
   "outputs": [],
   "source": []
  },
  {
   "cell_type": "code",
   "execution_count": null,
   "id": "3a3e1c8f",
   "metadata": {},
   "outputs": [],
   "source": [
    "object_list.sort()\n",
    "print(object_list)\n",
    "len(object_list)"
   ]
  },
  {
   "cell_type": "code",
   "execution_count": null,
   "id": "51c75234",
   "metadata": {},
   "outputs": [],
   "source": [
    "with open(save_path+'data.yaml', 'w') as f:\n",
    "    yaml.dump({'names': object_list, 'nc': len(object_list)}, f)"
   ]
  },
  {
   "cell_type": "code",
   "execution_count": null,
   "id": "c6eeba49",
   "metadata": {},
   "outputs": [],
   "source": [
    "# 데이터셋을 YOLO format으로 변환하는 코드\n",
    "'''\n",
    "def json_to_txt_yolo(json_path):\n",
    "    # open json file\n",
    "    with open(jsons_save_path + json_path) as f:\n",
    "        park_json = json.load(f)\n",
    "    label_file_name = json_path.split('/')[-1].replace('.json', '.txt')\n",
    "    label_file_path = labels_save_path + label_file_name\n",
    "    \n",
    "    # save file\n",
    "    f = open(label_file_path, 'w')\n",
    "    image_w = park_json['images']['width']\n",
    "    image_h = park_json['images']['height']\n",
    "    \n",
    "    # coordinate scaling\n",
    "    for champ_dict in park_json['annotations']:\n",
    "        champion_name = champ_dict['object_class']\n",
    "        \n",
    "        if champion_name not in object_list:\n",
    "            continue\n",
    "            \n",
    "        x = abs((champ_dict['bbox'][0][0] + champ_dict['bbox'][1][0])/2)/image_w\n",
    "        y = abs((champ_dict['bbox'][0][1] + champ_dict['bbox'][1][1])/2)/image_h\n",
    "        w = abs(champ_dict['bbox'][0][0] - champ_dict['bbox'][1][0])/image_w\n",
    "        h = abs(champ_dict['bbox'][0][1] - champ_dict['bbox'][1][1])/image_h\n",
    "#         print(champion_name, x, y ,w, h)\n",
    "        \n",
    "        # champion_name to champion_number\n",
    "        f.write(' '.join(map(str, [object_list.index(champion_name), x, y, w, h])) + '\\n')\n",
    "    f.close()\n",
    "    \n",
    "'''"
   ]
  },
  {
   "cell_type": "code",
   "execution_count": null,
   "id": "39b0acf2",
   "metadata": {},
   "outputs": [],
   "source": [
    "# 데이터셋을 클래스 비율에 맞게 YOLO format으로 변환하는 함수\n",
    "# stratified data split\n",
    "def rational_json_to_txt_yolo(json_path):\n",
    "    # open json file\n",
    "    with open(jsons_save_path + json_path) as f:\n",
    "        park_json = json.load(f)\n",
    "    label_file_name = json_path.split('/')[-1].replace('.json', '.txt')\n",
    "    label_file_path = labels_save_path + label_file_name\n",
    "    \n",
    "    # save file\n",
    "    f = open(label_file_path, 'w')\n",
    "    image_w = park_json['images']['width']\n",
    "    image_h = park_json['images']['height']\n",
    "    \n",
    "    # coordinate scaling\n",
    "    for champ_dict in park_json['annotations']:\n",
    "        champion_name = champ_dict['object_class']\n",
    "        \n",
    "        if champion_name not in object_list:\n",
    "            continue\n",
    "            \n",
    "        x = abs((champ_dict['bbox'][0][0] + champ_dict['bbox'][1][0])/2)/image_w\n",
    "        y = abs((champ_dict['bbox'][0][1] + champ_dict['bbox'][1][1])/2)/image_h\n",
    "        w = abs(champ_dict['bbox'][0][0] - champ_dict['bbox'][1][0])/image_w\n",
    "        h = abs(champ_dict['bbox'][0][1] - champ_dict['bbox'][1][1])/image_h\n",
    "#         print(champion_name, x, y ,w, h)\n",
    "        \n",
    "        # champion_name to champion_number\n",
    "        f.write(' '.join(map(str, [object_list.index(champion_name), x, y, w, h])) + '\\n')\n",
    "    f.close()"
   ]
  },
  {
   "cell_type": "code",
   "execution_count": null,
   "id": "1a4ff2e6",
   "metadata": {},
   "outputs": [],
   "source": []
  },
  {
   "cell_type": "code",
   "execution_count": null,
   "id": "b3c83b33",
   "metadata": {},
   "outputs": [],
   "source": [
    "labelTxtList = os.listdir(labels_save_path)\n",
    "#len(labelTxtList)\n",
    "\n",
    "numObjects = len(object_list)\n",
    "objectDict = {}\n",
    "\n",
    "for i in range(numObjects):\n",
    "    objectDict[i] = 0\n",
    "    \n",
    "for txtFile in labelTxtList:\n",
    "    #print(txtFile)\n",
    "    \n",
    "    with open(labels_save_path+txtFile, 'r') as f:\n",
    "        lines = f.readlines()\n",
    "        #print(lines)\n",
    "        \n",
    "        for line in lines:\n",
    "            lineSpt = line.split(' ')\n",
    "            #print(lineSpt[0])\n",
    "            objectDict[int(lineSpt[0])] += 1\n",
    "\n",
    "f.close()\n",
    "\n",
    "sortObjectDict = sorted(objectDict.items(), key=lambda x: x[1], reverse=False)\n",
    "#print(sortObjectDict)"
   ]
  },
  {
   "cell_type": "code",
   "execution_count": null,
   "id": "7e2adef6",
   "metadata": {},
   "outputs": [],
   "source": [
    "# scikit-learn 설치\n",
    "# !pip install scikit-learn"
   ]
  },
  {
   "cell_type": "markdown",
   "id": "3fba906c",
   "metadata": {},
   "source": [
    "# 클래스 비율에 맞게 데이터셋 분할\n",
    "- json 데이터를 YOLO format으로 변환하고, 라벨을 균형적으로 조절하여 dataset 분할하는 코드"
   ]
  },
  {
   "cell_type": "code",
   "execution_count": null,
   "id": "f4dfe4f1",
   "metadata": {},
   "outputs": [],
   "source": [
    "trainList = []\n",
    "validList = []\n",
    "objectCnt = 0\n",
    "for objectID, _ in sortObjectDict:\n",
    "    splitObjectTxtList = []\n",
    "    objectTxtList = []\n",
    "    print(objectID, _)\n",
    "    print(type(objectID))\n",
    "    \n",
    "    for txtFile in labelTxtList:\n",
    "        #print(txtFile)\n",
    "\n",
    "        with open(labels_save_path+txtFile, 'r') as f:\n",
    "            lines = f.readlines()\n",
    "            #print(lines)\n",
    "\n",
    "            for line in lines:\n",
    "                lineSpt = line.split(' ')\n",
    "                #print(type(lineSpt[0]))\n",
    "                print(lineSpt[0])\n",
    "\n",
    "                if lineSpt[0] == str(objectID):\n",
    "                    #print(txtFile)\n",
    "                    #print('park_objects/images/'+txtFile.replace('.txt', '.jpg'))\n",
    "                    splitObjectTxtList.append(txtFile)\n",
    "                    objectTxtList.append('park_objects/images/'+txtFile.replace('.txt', '.jpg'))\n",
    "                    #print(lines)\n",
    "                    break\n",
    "\n",
    "        f.close()\n",
    "    \n",
    "    #print(\"this champ has {}\".format(len(splitChampTxtList)))\n",
    "    \n",
    "    objectCnt += len(splitObjectTxtList)\n",
    "    \n",
    "    #print(\"before labels numbers\", len(labelTxtList))\n",
    "    \n",
    "    for splitObjectTxt in splitObjectTxtList:\n",
    "        labelTxtList.remove(splitObjectTxt)\n",
    "    \n",
    "    #print(\"after labels numbers\", len(labelTxtList))\n",
    "    \n",
    "    from sklearn.model_selection import train_test_split\n",
    "    \n",
    "    print(splitObjectTxtList)\n",
    "    \n",
    "    #trainTempList, validTempList = train_test_split(splitObjectTxtList, test_size=0.2, random_state=42)\n",
    "    trainTempList, validTempList = train_test_split(objectTxtList, test_size=0.2, random_state=42)\n",
    "    #print('split done')\n",
    "    #print(\"train labels {}, valid labels {}\".format(len(trainTempList), len(validTempList)))\n",
    "    trainList += trainTempList\n",
    "    validList += validTempList\n",
    "\n",
    "#print('here', len(trainList), len(validList))\n",
    "\n",
    "#print(trainList)\n",
    "with open('train.txt', 'w') as f:\n",
    "    f.write('\\n'.join(trainList) + '\\n')\n",
    "    \n",
    "with open('valid.txt', 'w') as f:\n",
    "    f.write('\\n'.join(validList) + '\\n')\n",
    "    \n",
    "#print(objectCnt)"
   ]
  },
  {
   "cell_type": "code",
   "execution_count": null,
   "id": "d316c502",
   "metadata": {},
   "outputs": [],
   "source": []
  }
 ],
 "metadata": {
  "kernelspec": {
   "display_name": "Python 3",
   "language": "python",
   "name": "python3"
  },
  "language_info": {
   "codemirror_mode": {
    "name": "ipython",
    "version": 3
   },
   "file_extension": ".py",
   "mimetype": "text/x-python",
   "name": "python",
   "nbconvert_exporter": "python",
   "pygments_lexer": "ipython3",
   "version": "3.6.13"
  }
 },
 "nbformat": 4,
 "nbformat_minor": 5
}
