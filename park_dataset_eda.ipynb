{
 "cells": [
  {
   "cell_type": "markdown",
   "id": "61415073",
   "metadata": {},
   "source": [
    "# 환경 설정\n",
    "- 필요한 라이브러리 임포트"
   ]
  },
  {
   "cell_type": "code",
   "execution_count": null,
   "id": "6a17621c",
   "metadata": {},
   "outputs": [],
   "source": [
    "# pyyaml 설치\n",
    "# !pip install pyyaml"
   ]
  },
  {
   "cell_type": "code",
   "execution_count": null,
   "id": "a783a1d1",
   "metadata": {},
   "outputs": [],
   "source": [
    "import json\n",
    "import os\n",
    "import glob\n",
    "import shutil\n",
    "import yaml"
   ]
  },
  {
   "cell_type": "markdown",
   "id": "d47aed58",
   "metadata": {},
   "source": [
    "# 파일 경로 설정\n",
    "- 데이터셋 경로 설정"
   ]
  },
  {
   "cell_type": "code",
   "execution_count": null,
   "id": "83ee9b8a",
   "metadata": {},
   "outputs": [],
   "source": [
    "dataset_path = \"객체/\"\n",
    "save_path = \"park_objects/\"\n",
    "images_save_path = save_path + 'images/'\n",
    "labels_save_path = save_path + 'labels/'\n",
    "jsons_save_path = save_path + 'jsons/'"
   ]
  },
  {
   "cell_type": "code",
   "execution_count": null,
   "id": "613ecf1b",
   "metadata": {},
   "outputs": [],
   "source": [
    "# os.mkdir(save_path)\n",
    "# os.mkdir(images_save_path)\n",
    "# os.mkdir(labels_save_path)\n",
    "# os.mkdir(jsons_save_path)"
   ]
  },
  {
   "cell_type": "code",
   "execution_count": null,
   "id": "bf6bf675",
   "metadata": {},
   "outputs": [],
   "source": [
    "directoryNames = os.listdir(dataset_path)"
   ]
  },
  {
   "cell_type": "code",
   "execution_count": null,
   "id": "5b425251",
   "metadata": {},
   "outputs": [],
   "source": [
    "# ._디렉토리 지우기\n",
    "#rm -rf ._*"
   ]
  },
  {
   "cell_type": "code",
   "execution_count": null,
   "id": "b177b2d5",
   "metadata": {},
   "outputs": [],
   "source": [
    "park_jsons = os.listdir('park_objects/jsons/')"
   ]
  },
  {
   "cell_type": "markdown",
   "id": "0ed60fa6",
   "metadata": {},
   "source": [
    "# Image resolution, width and height\n",
    "- 이미지 별 해상도 확인"
   ]
  },
  {
   "cell_type": "code",
   "execution_count": null,
   "id": "c024575c",
   "metadata": {},
   "outputs": [],
   "source": [
    "for park_json_path in park_jsons:\n",
    "    with open(jsons_save_path + park_json_path) as f:\n",
    "        park_json = json.load(f)\n",
    "        #print(park_json)\n",
    "        #print(park_json.keys())\n",
    "        height = park_json['images']['height']\n",
    "        width = park_json['images']['width']\n",
    "        if height != 1080 and width != 1920:\n",
    "            print(height, width)\n",
    "            print('not FHD')"
   ]
  },
  {
   "cell_type": "markdown",
   "id": "8ae3c2d5",
   "metadata": {},
   "source": [
    "# Label name list\n",
    "- 라벨 이름 리스트 생성"
   ]
  },
  {
   "cell_type": "code",
   "execution_count": null,
   "id": "d28e14b3",
   "metadata": {},
   "outputs": [],
   "source": [
    "object_set = set()\n",
    "\n",
    "for park_json_path in park_jsons:\n",
    "    with open(jsons_save_path + park_json_path) as f:\n",
    "        park_json = json.load(f)\n",
    "    for label in park_json['category']:\n",
    "        object_set.add(label['object_class_name'])\n",
    "\n",
    "object_list = list(object_set)\n",
    "object_list.sort()\n",
    "#print(object_list)\n",
    "len(object_list)\n",
    "\n",
    "object_list = ['banner', 'bench', 'fence', 'garbage_bag', \n",
    "               'park_headstone', 'park_info', 'park_pot', 'pet', \n",
    "               'rest_area', 'street_lamp', 'tent', 'toilet', 'trash_can']"
   ]
  },
  {
   "cell_type": "markdown",
   "id": "c2c46120",
   "metadata": {},
   "source": [
    "# Class distribution\n",
    "- 데이터셋의 클래스별 갯수 확인"
   ]
  },
  {
   "cell_type": "code",
   "execution_count": null,
   "id": "e9aacb11",
   "metadata": {},
   "outputs": [],
   "source": [
    "object_dict = {'banner': 0, 'bench': 0, 'fence': 0, 'garbage_bag': 0, \n",
    "               'park_headstone': 0, 'park_info': 0, 'park_pot': 0, 'pet': 0,\n",
    "               'rest_area': 0, 'street_lamp': 0, 'tent': 0, 'toilet': 0, 'trash_can': 0}"
   ]
  },
  {
   "cell_type": "code",
   "execution_count": null,
   "id": "342b7aad",
   "metadata": {},
   "outputs": [],
   "source": [
    "for park_json_path in park_jsons:\n",
    "    with open(jsons_save_path + park_json_path) as f:\n",
    "        park_json = json.load(f)\n",
    "        #print(park_json)\n",
    "        #print(park_json.keys())\n",
    "        annotations = park_json['annotations']\n",
    "        for annotation in annotations:\n",
    "            if annotation['object_class'] not in object_dict.keys():\n",
    "                continue\n",
    "            elif annotation['object_class'] in object_dict.keys():\n",
    "                object_dict[annotation['object_class']] += 1"
   ]
  },
  {
   "cell_type": "code",
   "execution_count": null,
   "id": "8fd6489b",
   "metadata": {
    "scrolled": true
   },
   "outputs": [],
   "source": [
    "# seaborn 설치\n",
    "# !pip install seaborn"
   ]
  },
  {
   "cell_type": "code",
   "execution_count": null,
   "id": "9edcc9d4",
   "metadata": {},
   "outputs": [],
   "source": [
    "object_dict"
   ]
  },
  {
   "cell_type": "code",
   "execution_count": null,
   "id": "c89108ba",
   "metadata": {},
   "outputs": [],
   "source": [
    "import operator\n",
    "\n",
    "sorted_object_dict = dict(sorted(object_dict.items(), key=operator.itemgetter(1)))\n",
    "print(sorted_object_dict)"
   ]
  },
  {
   "cell_type": "code",
   "execution_count": null,
   "id": "5540c4fa",
   "metadata": {},
   "outputs": [],
   "source": [
    "import seaborn as sns\n",
    "\n",
    "keys = list(sorted_object_dict.keys())\n",
    "# get values in the same order as keys, and parse percentage values\n",
    "vals = list(sorted_object_dict.values())\n",
    "sns.set(rc = {'figure.figsize':(20,12)})\n",
    "sns.barplot(x=keys, y=vals)"
   ]
  }
 ],
 "metadata": {
  "kernelspec": {
   "display_name": "Python 3",
   "language": "python",
   "name": "python3"
  },
  "language_info": {
   "codemirror_mode": {
    "name": "ipython",
    "version": 3
   },
   "file_extension": ".py",
   "mimetype": "text/x-python",
   "name": "python",
   "nbconvert_exporter": "python",
   "pygments_lexer": "ipython3",
   "version": "3.6.13"
  }
 },
 "nbformat": 4,
 "nbformat_minor": 5
}
